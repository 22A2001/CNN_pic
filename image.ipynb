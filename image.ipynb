{
  "nbformat": 4,
  "nbformat_minor": 0,
  "metadata": {
    "colab": {
      "provenance": [],
      "gpuType": "T4"
    },
    "kernelspec": {
      "name": "python3",
      "display_name": "Python 3"
    },
    "language_info": {
      "name": "python"
    },
    "accelerator": "GPU"
  },
  "cells": [
    {
      "cell_type": "markdown",
      "source": [
        "0. 下準備"
      ],
      "metadata": {
        "id": "sF4xbv0bo33P"
      }
    },
    {
      "cell_type": "code",
      "execution_count": 1,
      "metadata": {
        "id": "V2EynEZmrn4M"
      },
      "outputs": [],
      "source": [
        "# モジュールのインポート\n",
        "from matplotlib import pyplot as plt # matplotlibモジュールからpyplotというクラスを受け取り、名前が長いのでpltとこれから呼ぶようにする\n",
        "import tensorflow as tf # tensorflowモジュールをインポートし、上同様名前が長いのでtfと呼ぶようにする\n",
        "import numpy as np\n",
        "# as ○○　とする場合はこれからプログラムからこれを使うときはasで指定した名前にしないとエラーが出る"
      ]
    },
    {
      "cell_type": "code",
      "source": [
        "# mnistの画像データを受け取る\n",
        "(mnist_train_images, mnist_train_labels), (mnist_test_images, mnist_test_labels) = tf.keras.datasets.mnist.load_data()\n",
        "# 0～255の値を255で割って0～1の値に正規化\n",
        "mnist_train_images = mnist_train_images[..., tf.newaxis] / 255\n",
        "mnist_test_images = mnist_test_images[..., tf.newaxis] / 255\n",
        "\n",
        "# cifar10の画像データを受け取る\n",
        "(cifar10_train_images, cifar10_train_labels), (cifar10_test_images, cifar10_test_labels) = tf.keras.datasets.cifar10.load_data()\n",
        "# 0～255の値を255で割って0～1の値に正規化\n",
        "cifar10_train_images = cifar10_train_images / 255\n",
        "cifar10_test_images = cifar10_test_images / 255\n",
        "\n",
        "print(f\"mnistの学習データ数:{len(mnist_train_images)}枚\")\n",
        "print(f\"mnistの検証用データ数:{len(mnist_test_images)}枚\")\n",
        "print(f\"cifar10の学習データ数:{len(cifar10_train_images)}枚\")\n",
        "print(f\"cifar10の検証用データ数:{len(cifar10_test_images)}枚\")"
      ],
      "metadata": {
        "colab": {
          "base_uri": "https://localhost:8080/"
        },
        "id": "l8LCLlDKtiyo",
        "outputId": "45d3c2f1-311b-4a4c-f618-6dff4bfa391e"
      },
      "execution_count": 2,
      "outputs": [
        {
          "output_type": "stream",
          "name": "stdout",
          "text": [
            "Downloading data from https://storage.googleapis.com/tensorflow/tf-keras-datasets/mnist.npz\n",
            "\u001b[1m11490434/11490434\u001b[0m \u001b[32m━━━━━━━━━━━━━━━━━━━━\u001b[0m\u001b[37m\u001b[0m \u001b[1m0s\u001b[0m 0us/step\n",
            "Downloading data from https://www.cs.toronto.edu/~kriz/cifar-10-python.tar.gz\n",
            "\u001b[1m170498071/170498071\u001b[0m \u001b[32m━━━━━━━━━━━━━━━━━━━━\u001b[0m\u001b[37m\u001b[0m \u001b[1m4s\u001b[0m 0us/step\n",
            "mnistの学習データ数:60000枚\n",
            "mnistの検証用データ数:10000枚\n",
            "cifar10の学習データ数:50000枚\n",
            "cifar10の検証用データ数:10000枚\n"
          ]
        }
      ]
    },
    {
      "cell_type": "code",
      "source": [
        "# それぞれの画像のリストの一番最初の画像の形状を確認\n",
        "print(\"画像の形状\")\n",
        "print(\"mnist（モノクロ画像） :\", mnist_train_images[0].shape) # 配列.shapeでその配列の形状を確認できる\n",
        "print(\"cifar10（カラー画像） :\", cifar10_train_images[0].shape) # 配列.shapeでその配列の形状を確認できる"
      ],
      "metadata": {
        "id": "cBeO0ECQy3FU"
      },
      "execution_count": null,
      "outputs": []
    },
    {
      "cell_type": "code",
      "source": [
        "# モノクロ画像(mnist)の中身を確認\n",
        "print(mnist_train_images[0])"
      ],
      "metadata": {
        "collapsed": true,
        "id": "KhfKts8_u4PH"
      },
      "execution_count": null,
      "outputs": []
    },
    {
      "cell_type": "code",
      "source": [
        "# カラー画像(cifar10)の中身を確認\n",
        "print(cifar10_train_images[0])"
      ],
      "metadata": {
        "collapsed": true,
        "id": "ejhBum1P1XQ1"
      },
      "execution_count": null,
      "outputs": []
    },
    {
      "cell_type": "code",
      "source": [
        "# それぞれの画像のリストの一番最初の画像を一度表示して確認\n",
        "# 画像を表示する際にはmatplotlibを使用する\n",
        "fig = plt.figure() # plt.figure()をインスタンス化(画像を張る土台を作っている)\n",
        "ax = fig.add_subplot(1, 2, 1) # fig.add_subplot(縦に並べる画像の数, 横に並べる画像の数, この画像を並べる場所)\n",
        "ax.imshow(mnist_train_images[0], cmap=\"gray\") # 第一引数に表示したい画像を設定, cmap=\"gray\"は入力された画像をグレースケールにして出力\n",
        "ax.axis(\"off\")# 軸(x軸とy軸)を非表示にする\n",
        "\n",
        "ax = ax = fig.add_subplot(1, 2, 2) # fig.add_subplot(縦に並べる画像の数, 横に並べる画像の数, この画像を並べる場所（今回は2個目）)\n",
        "ax.imshow(cifar10_train_images[0]) # 表示したい画像を入力する\n",
        "ax.axis(\"off\") # 軸(x軸とy軸)を非表示にする\n",
        "plt.show() # 現在できている土台を表示する"
      ],
      "metadata": {
        "collapsed": true,
        "id": "xINl7A1gtHEO"
      },
      "execution_count": null,
      "outputs": []
    },
    {
      "cell_type": "markdown",
      "source": [
        "rgbで分ける"
      ],
      "metadata": {
        "id": "tkRkK2jdjedX"
      }
    },
    {
      "cell_type": "code",
      "source": [
        "image = cifar10_train_images[0]\n",
        "r_image = []\n",
        "g_image = []\n",
        "b_image = []\n",
        "rgb_image = []\n",
        "# 画像をrgbで分ける\n",
        "for row in image:\n",
        "    r_image.append([[pixel[0], 0, 0] for pixel in row])\n",
        "    g_image.append([[0, pixel[1], 0] for pixel in row])\n",
        "    b_image.append([[0, 0, pixel[2]] for pixel in row])\n",
        "# 分けたものを戻す\n",
        "for R, G, B in zip(r_image, g_image, b_image):\n",
        "    rgb_image.append([[r[0], g[1], b[2]] for r, g, b in zip(R,G,B)])\n",
        "\n",
        "# 画像を表示して確認\n",
        "fig = plt.figure()\n",
        "ax = fig.add_subplot(1, 5, 1)\n",
        "ax.imshow(image)\n",
        "ax.set_title(\"image\")\n",
        "ax.axis(\"off\")\n",
        "\n",
        "ax = fig.add_subplot(1, 5, 2)\n",
        "ax.imshow(r_image)\n",
        "ax.set_title(\"r_image\")\n",
        "ax.axis(\"off\")\n",
        "\n",
        "ax = fig.add_subplot(1, 5, 3)\n",
        "ax.imshow(g_image)\n",
        "ax.set_title(\"g_image\")\n",
        "ax.axis(\"off\")\n",
        "\n",
        "ax = fig.add_subplot(1, 5, 4)\n",
        "ax.imshow(b_image)\n",
        "ax.set_title(\"b_image\")\n",
        "ax.axis(\"off\")\n",
        "\n",
        "ax = fig.add_subplot(1, 5, 5)\n",
        "ax.imshow(rgb_image)\n",
        "ax.set_title(\"rgb_image\")\n",
        "ax.axis(\"off\")\n",
        "\n",
        "plt.show()"
      ],
      "metadata": {
        "id": "QiZ_CjMujhG0"
      },
      "execution_count": null,
      "outputs": []
    },
    {
      "cell_type": "markdown",
      "source": [
        "色の変換"
      ],
      "metadata": {
        "id": "XISi2U6bpo3t"
      }
    },
    {
      "cell_type": "code",
      "source": [
        "image = cifar10_train_images[0]\n",
        "# グレースケール変換\n",
        "gray_image = tf.image.rgb_to_grayscale(image)\n",
        "# hsv(h:色相, s:彩度, v:明度)変換\n",
        "hsv_image = tf.image.rgb_to_hsv(image)\n",
        "# yiq(y:輝度, i:オレンジから青色の色相成分, q:緑からマゼンダ色の色相成分)変換\n",
        "yiq_image = tf.image.rgb_to_yiq(image)\n",
        "# yuv(y:輝度信号, u:輝度と青色成分の差, v:輝度と赤色成分の差)変換\n",
        "yuv_image = tf.image.rgb_to_yuv(image)\n",
        "\n",
        "# 画像を表示して確認\n",
        "fig = plt.figure()\n",
        "ax = fig.add_subplot(1, 5, 1)\n",
        "ax.imshow(image)\n",
        "ax.set_title(\"image\")\n",
        "ax.axis(\"off\")\n",
        "\n",
        "ax = fig.add_subplot(1, 5, 2)\n",
        "ax.imshow(gray_image, cmap=\"gray\")\n",
        "ax.set_title(\"gray_image\")\n",
        "ax.axis(\"off\")\n",
        "\n",
        "ax = fig.add_subplot(1, 5, 3)\n",
        "ax.imshow(hsv_image)\n",
        "ax.set_title(\"hsv_image\")\n",
        "ax.axis(\"off\")\n",
        "\n",
        "ax = fig.add_subplot(1, 5, 4)\n",
        "ax.imshow(yiq_image)\n",
        "ax.set_title(\"yiq_image\")\n",
        "ax.axis(\"off\")\n",
        "\n",
        "ax = fig.add_subplot(1, 5, 5)\n",
        "ax.imshow(yuv_image)\n",
        "ax.set_title(\"yuv_image\")\n",
        "ax.axis(\"off\")\n",
        "\n",
        "plt.show()"
      ],
      "metadata": {
        "id": "VgsHZGXKjunt"
      },
      "execution_count": null,
      "outputs": []
    },
    {
      "cell_type": "markdown",
      "source": [
        "フリップ"
      ],
      "metadata": {
        "id": "EcH0UMG0pmif"
      }
    },
    {
      "cell_type": "code",
      "source": [
        "image = mnist_train_images[0]\n",
        "# 左右にフリップ\n",
        "lr_image = tf.image.flip_left_right(image)\n",
        "# 上下にフリップ\n",
        "ud_image = tf.image.flip_up_down(image)\n",
        "# 上下左右にフリップ\n",
        "udlr_image = tf.image.flip_left_right(ud_image)\n",
        "\n",
        "# 画像を表示して確認\n",
        "fig = plt.figure()\n",
        "ax = fig.add_subplot(1, 4, 1)\n",
        "ax.imshow(image, cmap=\"gray\")\n",
        "ax.set_title(\"image\")\n",
        "ax.axis(\"off\")\n",
        "\n",
        "ax = fig.add_subplot(1, 4, 2)\n",
        "ax.imshow(lr_image, cmap=\"gray\")\n",
        "ax.set_title(\"lr_image\")\n",
        "ax.axis(\"off\")\n",
        "\n",
        "ax = fig.add_subplot(1, 4, 3)\n",
        "ax.imshow(ud_image, cmap=\"gray\")\n",
        "ax.set_title(\"ud_image\")\n",
        "ax.axis(\"off\")\n",
        "\n",
        "ax = fig.add_subplot(1, 4, 4)\n",
        "ax.imshow(udlr_image, cmap=\"gray\")\n",
        "ax.set_title(\"udlr_image\")\n",
        "ax.axis(\"off\")\n",
        "\n",
        "plt.show()"
      ],
      "metadata": {
        "id": "ekAa2EEMjzQO"
      },
      "execution_count": null,
      "outputs": []
    },
    {
      "cell_type": "markdown",
      "source": [
        "トリミング"
      ],
      "metadata": {
        "id": "gF0c5kiQpsfv"
      }
    },
    {
      "cell_type": "code",
      "source": [
        "image = [cifar10_train_images[0]]\n",
        "# 画像のトリミング\n",
        "boxes = np.array([\n",
        "                    [0,0,0.5,0.5], # [y1,x1,y2,x2]\n",
        "                    [0,0.5,0.5,1.0],\n",
        "                    [0.5,0,1.0,0.5],\n",
        "                    [0.5,0.5,1.0,1.0]\n",
        "                    ])\n",
        "box_indices = np.array([0,0,0,0])\n",
        "crop_image = tf.image.crop_and_resize(image, boxes, box_indices, crop_size=(16,16))\n",
        "\n",
        "# 画像を表示して確認\n",
        "fig = plt.figure()\n",
        "ax = fig.add_subplot(2, 2, 1)\n",
        "ax.imshow(crop_image[0])\n",
        "ax.set_title(\"lu_image\")\n",
        "ax.axis(\"off\")\n",
        "\n",
        "ax = fig.add_subplot(2, 2, 2)\n",
        "ax.imshow(crop_image[1])\n",
        "ax.set_title(\"ru_image\")\n",
        "ax.axis(\"off\")\n",
        "\n",
        "ax = fig.add_subplot(2, 2, 3)\n",
        "ax.imshow(crop_image[2])\n",
        "ax.set_title(\"ld_image\")\n",
        "ax.axis(\"off\")\n",
        "\n",
        "ax = fig.add_subplot(2, 2, 4)\n",
        "ax.imshow(crop_image[3])\n",
        "ax.set_title(\"rd_image\")\n",
        "ax.axis(\"off\")\n",
        "\n",
        "plt.show()"
      ],
      "metadata": {
        "id": "vNMnsrxtj4Yn"
      },
      "execution_count": null,
      "outputs": []
    },
    {
      "cell_type": "markdown",
      "source": [
        "リサイズ"
      ],
      "metadata": {
        "id": "2D5MgNzTjWJG"
      }
    },
    {
      "cell_type": "code",
      "source": [
        "image = cifar10_train_images[0]\n",
        "# 画像のリサイズ\n",
        "small_image = tf.image.resize(image, [16, 16])\n",
        "big_image = tf.image.resize(image, [64, 64])\n",
        "\n",
        "# 画像を表示して確認\n",
        "fig = plt.figure()\n",
        "ax = fig.add_subplot(1, 3, 1)\n",
        "ax.imshow(image)\n",
        "ax.set_title(\"image\")\n",
        "ax.axis(\"off\")\n",
        "\n",
        "ax = fig.add_subplot(1, 3, 2)\n",
        "ax.imshow(small_image)\n",
        "ax.set_title(\"small_image\")\n",
        "ax.axis(\"off\")\n",
        "\n",
        "ax = fig.add_subplot(1, 3, 3)\n",
        "ax.imshow(big_image)\n",
        "ax.set_title(\"big_image\")\n",
        "ax.axis(\"off\")\n",
        "\n",
        "plt.show()"
      ],
      "metadata": {
        "id": "Rep5Nxufj9Dn"
      },
      "execution_count": null,
      "outputs": []
    },
    {
      "cell_type": "code",
      "source": [
        "# ちょっとした遊び\n",
        "# やっていることとしては、数値が0じゃない場所を1にして表示しているだけ\n",
        "# なんとなく数字が浮かび上がって面白い\n",
        "new_image = tf.where(mnist_train_images[0] > 0, 1, 0)\n",
        "new_image = tf.reshape(new_image, [28, 28])\n",
        "print(new_image)"
      ],
      "metadata": {
        "collapsed": true,
        "id": "B-oEwgukxYfd"
      },
      "execution_count": null,
      "outputs": []
    },
    {
      "cell_type": "code",
      "source": [
        "# 画像を確認\n",
        "fig = plt.figure()\n",
        "ax = fig.add_subplot()\n",
        "ax.imshow(new_image,\"gray\")\n",
        "ax.axis(\"off\")\n",
        "plt.show()"
      ],
      "metadata": {
        "id": "O0zzENP2uj3_"
      },
      "execution_count": null,
      "outputs": []
    },
    {
      "cell_type": "markdown",
      "source": [
        "リアル画像を読み込む"
      ],
      "metadata": {
        "id": "TpjAzU0dqOBl"
      }
    },
    {
      "cell_type": "code",
      "source": [
        "!wget https://www.shonan-it.ac.jp/media/bn-b005.png -O test.png"
      ],
      "metadata": {
        "id": "hWh99PBIpD98"
      },
      "execution_count": null,
      "outputs": []
    },
    {
      "cell_type": "code",
      "source": [
        "# 生画像の読み込み関数\n",
        "def read_and_preprocess(image_path):\n",
        "    read = tf.io.read_file(image_path)\n",
        "    image = tf.image.decode_image(read, channels = 3, expand_animations = False)\n",
        "    image = tf.image.resize(image, (image.shape)[:-1])\n",
        "    image = tf.cast(image, tf.float32) / 255.0\n",
        "    return image"
      ],
      "metadata": {
        "id": "VwEJDPfYoXYZ"
      },
      "execution_count": null,
      "outputs": []
    },
    {
      "cell_type": "code",
      "source": [
        "real_image = read_and_preprocess(\"test.png\")"
      ],
      "metadata": {
        "id": "JK3Uv1vdqDU5"
      },
      "execution_count": null,
      "outputs": []
    },
    {
      "cell_type": "code",
      "source": [
        "print(\"画像の形状を確認 :\", real_image.shape)"
      ],
      "metadata": {
        "id": "RTBYnsQ7qNLy"
      },
      "execution_count": null,
      "outputs": []
    },
    {
      "cell_type": "code",
      "source": [
        "# 画像を確認\n",
        "fig = plt.figure()\n",
        "ax = fig.add_subplot()\n",
        "ax.imshow(real_image)\n",
        "ax.axis(\"off\")\n",
        "plt.show()"
      ],
      "metadata": {
        "id": "gKlWfkodqZjB"
      },
      "execution_count": null,
      "outputs": []
    }
  ]
}